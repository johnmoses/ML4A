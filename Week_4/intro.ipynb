{
 "cells": [
  {
   "attachments": {},
   "cell_type": "markdown",
   "metadata": {},
   "source": [
    "## Preparing to start a machine learning project\n",
    "\n",
    "Some of the things to do when preparing to start a machine learning project includes the following:\n",
    "\n",
    "1. Define a goal, for example classifying farm animals\n",
    "2. Choose main categories or classes for example goats, cows, rabbits\n",
    "3. Collect examples or sample images to make a dataset\n",
    "4. Split dataset into training training, testing and possibly validation set\n",
    "5. Evaluate how the classifier works\n",
    "6. Improve the performance by making necessary modifications"
   ]
  },
  {
   "cell_type": "code",
   "execution_count": null,
   "metadata": {},
   "outputs": [],
   "source": []
  }
 ],
 "metadata": {
  "kernelspec": {
   "display_name": "mle",
   "language": "python",
   "name": "python3"
  },
  "language_info": {
   "name": "python",
   "version": "3.11.0 | packaged by conda-forge | (main, Oct 25 2022, 06:21:25) [Clang 14.0.4 ]"
  },
  "orig_nbformat": 4,
  "vscode": {
   "interpreter": {
    "hash": "46a2712e5776144f8ae576f4bb83ffbacb1dd5250ddea76be76c45dde6278cc1"
   }
  }
 },
 "nbformat": 4,
 "nbformat_minor": 2
}
